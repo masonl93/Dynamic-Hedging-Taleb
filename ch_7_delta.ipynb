{
 "cells": [
  {
   "cell_type": "code",
   "execution_count": 1,
   "metadata": {},
   "outputs": [],
   "source": [
    "import math\n",
    "from importlib import reload\n",
    "\n",
    "import numpy as np\n",
    "import pandas as pd"
   ]
  },
  {
   "cell_type": "code",
   "execution_count": 2,
   "metadata": {},
   "outputs": [],
   "source": [
    "import BSM_call_greeks\n",
    "import BSM_option_valuation\n",
    "\n",
    "reload(BSM_option_valuation)\n",
    "reload(BSM_call_greeks)\n",
    "from BSM_call_greeks import *\n",
    "from BSM_option_valuation import *"
   ]
  },
  {
   "cell_type": "markdown",
   "metadata": {},
   "source": [
    "## Continous-Time Delta  \n",
    "Pg 118-121"
   ]
  },
  {
   "cell_type": "code",
   "execution_count": 35,
   "metadata": {},
   "outputs": [
    {
     "name": "stdout",
     "output_type": "stream",
     "text": [
      "Delta for long $1m of 96 calls:  0.8236717891061237\n",
      "Continuous Delta : $ 823671.7891061237\n"
     ]
    }
   ],
   "source": [
    "s = 100\n",
    "r = 0\n",
    "expiry = 30 / 365\n",
    "vol = 0.157\n",
    "\n",
    "delta1 = BSM_delta(s, 96, 0, expiry, r, vol)\n",
    "print(\"Delta for long $1m of 96 calls: \", delta1)\n",
    "delta1_val = delta1 * 10**6\n",
    "print(\"Continuous Delta : $\", delta1_val)"
   ]
  },
  {
   "cell_type": "code",
   "execution_count": 36,
   "metadata": {},
   "outputs": [
    {
     "name": "stdout",
     "output_type": "stream",
     "text": [
      "Delta for short $1m of 96 calls:  0.1979788166354165\n",
      "Continuous Delta : $ 197978.8166354165\n"
     ]
    }
   ],
   "source": [
    "delta2 = BSM_delta(s, 104, 0, expiry, r, vol)\n",
    "print(\"Delta for short $1m of 96 calls: \", delta2)\n",
    "delta2_val = delta2 * 10**6\n",
    "print(\"Continuous Delta : $\", delta2_val)"
   ]
  },
  {
   "cell_type": "code",
   "execution_count": 37,
   "metadata": {},
   "outputs": [
    {
     "name": "stdout",
     "output_type": "stream",
     "text": [
      "Total Continuous Delta: $ 625692.9724707073\n"
     ]
    }
   ],
   "source": [
    "tot_delta = delta1 - delta2\n",
    "tot_delta_val = delta1_val - delta2_val\n",
    "print(\"Total Continuous Delta: $\", tot_delta_val)"
   ]
  },
  {
   "cell_type": "code",
   "execution_count": 38,
   "metadata": {},
   "outputs": [],
   "source": [
    "def get_delta(s, short):\n",
    "    d1 = BSM_delta(s, 96, 0, expiry, r, vol)\n",
    "    d2 = BSM_delta(s, 104, 0, expiry, r, vol)\n",
    "    return short + d2 - d1\n",
    "\n",
    "\n",
    "def get_pl(s):\n",
    "    init_l_call_contracts = 10**6 / BSM_call_value(100, 96, 0, expiry, r, vol)\n",
    "    init_s_call_contracts = 10**6 / BSM_call_value(100, 104, 0, expiry, r, vol)\n",
    "    shares_short = 626000 / 100\n",
    "\n",
    "    pl_l = BSM_call_value(s, 96, 0, expiry, r, vol) * init_l_call_contracts - 10**6\n",
    "    # print(pl_l)\n",
    "\n",
    "    pl_s = BSM_call_value(s, 104, 0, expiry, r, vol) * init_s_call_contracts - 10**6\n",
    "    # print(pl_s)\n",
    "\n",
    "    pl_shares = shares_short * s - 626000\n",
    "    # print(pl_shares)\n",
    "\n",
    "    print(pl_l, pl_s, pl_shares)\n",
    "    print(pl_l - pl_s + pl_shares)\n",
    "\n",
    "\n",
    "#     init_price_longc = BSM_call_value(100, 96, 0, expiry, r, vol)*10**6\n",
    "#     init_price_shortc = BSM_call_value(100, 104, 0, expiry, r, vol)*10**6\n",
    "#     init_price_short_shares = 626000/100\n",
    "\n",
    "#     new_price_longc = BSM_call_value(s, 96, 0, expiry, r, vol)*init_l_call_contracts\n",
    "#     new_price_shortc = BSM_call_value(s, 104, 0, expiry, r, vol)*10**6\n",
    "#     shares_val = init_price_short_shares * s\n",
    "\n",
    "#     a = new_price_longc - init_price_longc\n",
    "#     b = init_price_shortc - new_price_shortc\n",
    "#     c = 626000-shares_val\n",
    "#     print(a)\n",
    "#     print(b)\n",
    "#     print(c)\n",
    "#     print(a+b+c)"
   ]
  },
  {
   "cell_type": "code",
   "execution_count": 39,
   "metadata": {},
   "outputs": [
    {
     "data": {
      "text/html": [
       "<div>\n",
       "<style scoped>\n",
       "    .dataframe tbody tr th:only-of-type {\n",
       "        vertical-align: middle;\n",
       "    }\n",
       "\n",
       "    .dataframe tbody tr th {\n",
       "        vertical-align: top;\n",
       "    }\n",
       "\n",
       "    .dataframe thead th {\n",
       "        text-align: right;\n",
       "    }\n",
       "</style>\n",
       "<table border=\"1\" class=\"dataframe\">\n",
       "  <thead>\n",
       "    <tr style=\"text-align: right;\">\n",
       "      <th></th>\n",
       "      <th>Asset Price</th>\n",
       "      <th>Delta 000</th>\n",
       "    </tr>\n",
       "  </thead>\n",
       "  <tbody>\n",
       "    <tr>\n",
       "      <th>0</th>\n",
       "      <td>92.5</td>\n",
       "      <td>420</td>\n",
       "    </tr>\n",
       "    <tr>\n",
       "      <th>1</th>\n",
       "      <td>93.5</td>\n",
       "      <td>349</td>\n",
       "    </tr>\n",
       "    <tr>\n",
       "      <th>2</th>\n",
       "      <td>95.5</td>\n",
       "      <td>194</td>\n",
       "    </tr>\n",
       "    <tr>\n",
       "      <th>3</th>\n",
       "      <td>97.0</td>\n",
       "      <td>89</td>\n",
       "    </tr>\n",
       "    <tr>\n",
       "      <th>4</th>\n",
       "      <td>98.0</td>\n",
       "      <td>38</td>\n",
       "    </tr>\n",
       "    <tr>\n",
       "      <th>5</th>\n",
       "      <td>99.0</td>\n",
       "      <td>8</td>\n",
       "    </tr>\n",
       "    <tr>\n",
       "      <th>6</th>\n",
       "      <td>100.0</td>\n",
       "      <td>0</td>\n",
       "    </tr>\n",
       "    <tr>\n",
       "      <th>7</th>\n",
       "      <td>101.0</td>\n",
       "      <td>16</td>\n",
       "    </tr>\n",
       "    <tr>\n",
       "      <th>8</th>\n",
       "      <td>102.0</td>\n",
       "      <td>52</td>\n",
       "    </tr>\n",
       "    <tr>\n",
       "      <th>9</th>\n",
       "      <td>103.0</td>\n",
       "      <td>106</td>\n",
       "    </tr>\n",
       "    <tr>\n",
       "      <th>10</th>\n",
       "      <td>104.0</td>\n",
       "      <td>171</td>\n",
       "    </tr>\n",
       "    <tr>\n",
       "      <th>11</th>\n",
       "      <td>105.0</td>\n",
       "      <td>241</td>\n",
       "    </tr>\n",
       "    <tr>\n",
       "      <th>12</th>\n",
       "      <td>106.0</td>\n",
       "      <td>311</td>\n",
       "    </tr>\n",
       "    <tr>\n",
       "      <th>13</th>\n",
       "      <td>107.0</td>\n",
       "      <td>377</td>\n",
       "    </tr>\n",
       "    <tr>\n",
       "      <th>14</th>\n",
       "      <td>108.5</td>\n",
       "      <td>461</td>\n",
       "    </tr>\n",
       "  </tbody>\n",
       "</table>\n",
       "</div>"
      ],
      "text/plain": [
       "    Asset Price  Delta 000\n",
       "0          92.5        420\n",
       "1          93.5        349\n",
       "2          95.5        194\n",
       "3          97.0         89\n",
       "4          98.0         38\n",
       "5          99.0          8\n",
       "6         100.0          0\n",
       "7         101.0         16\n",
       "8         102.0         52\n",
       "9         103.0        106\n",
       "10        104.0        171\n",
       "11        105.0        241\n",
       "12        106.0        311\n",
       "13        107.0        377\n",
       "14        108.5        461"
      ]
     },
     "execution_count": 39,
     "metadata": {},
     "output_type": "execute_result"
    }
   ],
   "source": [
    "asset_prices = [92.5, 93.5, 95.5] + list(range(97, 108)) + [108.5]\n",
    "deltas = []\n",
    "\n",
    "for price in asset_prices:\n",
    "    # get_pl(price)\n",
    "    deltas.append(round(get_delta(price, tot_delta) * 1000))\n",
    "\n",
    "df = pd.DataFrame(\n",
    "    {\n",
    "        \"Asset Price\": asset_prices,\n",
    "        # 'P/L': pls,\n",
    "        \"Delta 000\": deltas,\n",
    "    }\n",
    ")\n",
    "df"
   ]
  },
  {
   "cell_type": "code",
   "execution_count": 40,
   "metadata": {},
   "outputs": [],
   "source": [
    "# TODO: get P/L working"
   ]
  },
  {
   "cell_type": "markdown",
   "metadata": {},
   "source": [
    "## Asset Values One Period Ahead  \n",
    "Pg 129"
   ]
  },
  {
   "cell_type": "code",
   "execution_count": 41,
   "metadata": {},
   "outputs": [],
   "source": [
    "t = 0.12\n",
    "mu = 0\n",
    "S_0 = 100\n",
    "sigmas = [0.1, 0.157, 0.25, 0.5, 1]\n",
    "Zs = list(range(-3, 4))"
   ]
  },
  {
   "cell_type": "code",
   "execution_count": 42,
   "metadata": {},
   "outputs": [],
   "source": [
    "def geo_brown(S_0, mu, sigma, t, Z):\n",
    "    return S_0 * np.exp((mu - 0.5 * (sigma**2)) * t + sigma * math.sqrt(t) * Z)"
   ]
  },
  {
   "cell_type": "code",
   "execution_count": 43,
   "metadata": {},
   "outputs": [
    {
     "data": {
      "text/plain": [
       "90.07540361795392"
      ]
     },
     "execution_count": 43,
     "metadata": {},
     "output_type": "execute_result"
    }
   ],
   "source": [
    "geo_brown(S_0, mu, sigmas[0], t, Zs[0])"
   ]
  },
  {
   "cell_type": "code",
   "execution_count": 44,
   "metadata": {},
   "outputs": [
    {
     "name": "stdout",
     "output_type": "stream",
     "text": [
      "\n",
      "Z:  -3\n",
      "90.07540361795392\n",
      "84.82005902360015\n",
      "76.8313350076207\n",
      "58.58946742873772\n",
      "33.31273317234942\n",
      "\n",
      "Z:  -2\n",
      "93.25038187458354\n",
      "89.56086547102224\n",
      "83.78174178020322\n",
      "69.66931831250255\n",
      "47.103620336418984\n",
      "\n",
      "Z:  -1\n",
      "96.53727177995606\n",
      "94.56664751538025\n",
      "91.36090444124676\n",
      "82.84447917251491\n",
      "66.6036928677811\n",
      "\n",
      "Z:  0\n",
      "99.94001799640054\n",
      "99.85221530928224\n",
      "99.6257022469171\n",
      "98.51119396030626\n",
      "94.17645335842487\n",
      "\n",
      "Z:  1\n",
      "103.4627042277226\n",
      "105.43320678201763\n",
      "108.63815993168313\n",
      "117.14064029875276\n",
      "133.16385301305067\n",
      "\n",
      "Z:  2\n",
      "107.10955812013903\n",
      "111.32613390607801\n",
      "118.46591318463884\n",
      "139.29310018444033\n",
      "188.29135221086594\n",
      "\n",
      "Z:  3\n",
      "110.88495633596077\n",
      "117.54843154963027\n",
      "129.18271623429325\n",
      "165.63481051075598\n",
      "266.24066903442446\n"
     ]
    }
   ],
   "source": [
    "for Z in Zs:\n",
    "    print(\"\\nZ: \", Z)\n",
    "    for sigma in sigmas:\n",
    "        print(geo_brown(S_0, mu, sigma, t, Z))"
   ]
  },
  {
   "cell_type": "markdown",
   "metadata": {},
   "source": [
    "## Deltas with Extreme Shifts in Volatility\n",
    "pg 131"
   ]
  },
  {
   "cell_type": "code",
   "execution_count": 69,
   "metadata": {},
   "outputs": [
    {
     "data": {
      "text/html": [
       "<div>\n",
       "<style scoped>\n",
       "    .dataframe tbody tr th:only-of-type {\n",
       "        vertical-align: middle;\n",
       "    }\n",
       "\n",
       "    .dataframe tbody tr th {\n",
       "        vertical-align: top;\n",
       "    }\n",
       "\n",
       "    .dataframe thead th {\n",
       "        text-align: right;\n",
       "    }\n",
       "</style>\n",
       "<table border=\"1\" class=\"dataframe\">\n",
       "  <thead>\n",
       "    <tr style=\"text-align: right;\">\n",
       "      <th></th>\n",
       "      <th>VOL</th>\n",
       "      <th>90 Put Delta</th>\n",
       "      <th>110 Call Delta</th>\n",
       "      <th>90 Call Delta</th>\n",
       "    </tr>\n",
       "  </thead>\n",
       "  <tbody>\n",
       "    <tr>\n",
       "      <th>0</th>\n",
       "      <td>0.10</td>\n",
       "      <td>-0.06</td>\n",
       "      <td>0.09</td>\n",
       "      <td>0.94</td>\n",
       "    </tr>\n",
       "    <tr>\n",
       "      <th>1</th>\n",
       "      <td>0.15</td>\n",
       "      <td>-0.15</td>\n",
       "      <td>0.20</td>\n",
       "      <td>0.85</td>\n",
       "    </tr>\n",
       "    <tr>\n",
       "      <th>2</th>\n",
       "      <td>0.20</td>\n",
       "      <td>-0.21</td>\n",
       "      <td>0.27</td>\n",
       "      <td>0.79</td>\n",
       "    </tr>\n",
       "    <tr>\n",
       "      <th>3</th>\n",
       "      <td>0.30</td>\n",
       "      <td>-0.27</td>\n",
       "      <td>0.36</td>\n",
       "      <td>0.73</td>\n",
       "    </tr>\n",
       "    <tr>\n",
       "      <th>4</th>\n",
       "      <td>0.40</td>\n",
       "      <td>-0.30</td>\n",
       "      <td>0.42</td>\n",
       "      <td>0.70</td>\n",
       "    </tr>\n",
       "    <tr>\n",
       "      <th>5</th>\n",
       "      <td>0.50</td>\n",
       "      <td>-0.32</td>\n",
       "      <td>0.46</td>\n",
       "      <td>0.68</td>\n",
       "    </tr>\n",
       "    <tr>\n",
       "      <th>6</th>\n",
       "      <td>0.60</td>\n",
       "      <td>-0.32</td>\n",
       "      <td>0.49</td>\n",
       "      <td>0.68</td>\n",
       "    </tr>\n",
       "    <tr>\n",
       "      <th>7</th>\n",
       "      <td>0.70</td>\n",
       "      <td>-0.32</td>\n",
       "      <td>0.52</td>\n",
       "      <td>0.68</td>\n",
       "    </tr>\n",
       "    <tr>\n",
       "      <th>8</th>\n",
       "      <td>0.80</td>\n",
       "      <td>-0.32</td>\n",
       "      <td>0.54</td>\n",
       "      <td>0.68</td>\n",
       "    </tr>\n",
       "    <tr>\n",
       "      <th>9</th>\n",
       "      <td>1.00</td>\n",
       "      <td>-0.31</td>\n",
       "      <td>0.59</td>\n",
       "      <td>0.69</td>\n",
       "    </tr>\n",
       "    <tr>\n",
       "      <th>10</th>\n",
       "      <td>1.20</td>\n",
       "      <td>-0.29</td>\n",
       "      <td>0.62</td>\n",
       "      <td>0.71</td>\n",
       "    </tr>\n",
       "    <tr>\n",
       "      <th>11</th>\n",
       "      <td>1.40</td>\n",
       "      <td>-0.27</td>\n",
       "      <td>0.65</td>\n",
       "      <td>0.73</td>\n",
       "    </tr>\n",
       "    <tr>\n",
       "      <th>12</th>\n",
       "      <td>1.60</td>\n",
       "      <td>-0.26</td>\n",
       "      <td>0.68</td>\n",
       "      <td>0.74</td>\n",
       "    </tr>\n",
       "    <tr>\n",
       "      <th>13</th>\n",
       "      <td>1.80</td>\n",
       "      <td>-0.24</td>\n",
       "      <td>0.71</td>\n",
       "      <td>0.76</td>\n",
       "    </tr>\n",
       "  </tbody>\n",
       "</table>\n",
       "</div>"
      ],
      "text/plain": [
       "     VOL  90 Put Delta  110 Call Delta  90 Call Delta\n",
       "0   0.10         -0.06            0.09           0.94\n",
       "1   0.15         -0.15            0.20           0.85\n",
       "2   0.20         -0.21            0.27           0.79\n",
       "3   0.30         -0.27            0.36           0.73\n",
       "4   0.40         -0.30            0.42           0.70\n",
       "5   0.50         -0.32            0.46           0.68\n",
       "6   0.60         -0.32            0.49           0.68\n",
       "7   0.70         -0.32            0.52           0.68\n",
       "8   0.80         -0.32            0.54           0.68\n",
       "9   1.00         -0.31            0.59           0.69\n",
       "10  1.20         -0.29            0.62           0.71\n",
       "11  1.40         -0.27            0.65           0.73\n",
       "12  1.60         -0.26            0.68           0.74\n",
       "13  1.80         -0.24            0.71           0.76"
      ]
     },
     "execution_count": 69,
     "metadata": {},
     "output_type": "execute_result"
    }
   ],
   "source": [
    "s = 100\n",
    "r = 0\n",
    "expiry = 180 / 365\n",
    "strikes = [110, 90]  # todo: add 90 put\n",
    "vols = [10, 15] + list(range(20, 90, 10)) + list(range(100, 200, 20))\n",
    "vols = [x * 0.01 for x in vols]\n",
    "deltas = []\n",
    "for strike in strikes:\n",
    "    d = []\n",
    "    for vol in vols:\n",
    "        d.append((round(BSM_delta(s, strike, 0, expiry, r, vol), 2)))\n",
    "    deltas.append(d)\n",
    "\n",
    "\n",
    "df = pd.DataFrame(\n",
    "    {\n",
    "        \"VOL\": vols,\n",
    "        \"90 Put Delta\": [x - 1 for x in deltas[1]],\n",
    "        \"110 Call Delta\": deltas[0],\n",
    "        \"90 Call Delta\": deltas[1],\n",
    "    }\n",
    ")\n",
    "df"
   ]
  },
  {
   "cell_type": "code",
   "execution_count": null,
   "metadata": {},
   "outputs": [],
   "source": []
  }
 ],
 "metadata": {
  "kernelspec": {
   "display_name": "Python 3",
   "language": "python",
   "name": "python3"
  },
  "language_info": {
   "codemirror_mode": {
    "name": "ipython",
    "version": 3
   },
   "file_extension": ".py",
   "mimetype": "text/x-python",
   "name": "python",
   "nbconvert_exporter": "python",
   "pygments_lexer": "ipython3",
   "version": "3.8.17"
  }
 },
 "nbformat": 4,
 "nbformat_minor": 4
}
