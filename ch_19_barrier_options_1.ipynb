{
 "cells": [
  {
   "cell_type": "markdown",
   "id": "8944a421-9802-488d-b003-556b2d5576dd",
   "metadata": {},
   "source": [
    "## Binomial Tree\n",
    "### Vanilla Valuation with binomial option pricing\n",
    "Pg 337-8"
   ]
  },
  {
   "cell_type": "code",
   "execution_count": 15,
   "id": "49d5efb7-19c7-4122-8f2e-180434f89af4",
   "metadata": {},
   "outputs": [
    {
     "name": "stdout",
     "output_type": "stream",
     "text": [
      "101.98\n",
      "100.0\n",
      "100.0\n",
      "98.02\n"
     ]
    }
   ],
   "source": [
    "s = 100\n",
    "days = 20\n",
    "u = 0.99\n",
    "d = 0.99\n",
    "nodes = []\n",
    "\n",
    "\n",
    "def get_nodes(curr_val, steps_left):\n",
    "    if steps_left == 18:\n",
    "        print(curr_val)\n",
    "    if steps_left == 0:\n",
    "        nodes.append(curr_val)\n",
    "    else:\n",
    "        get_nodes(round((curr_val + u), 2), steps_left - 1)\n",
    "        get_nodes(round((curr_val - d), 2), steps_left - 1)\n",
    "\n",
    "\n",
    "get_nodes(s, days)"
   ]
  },
  {
   "cell_type": "code",
   "execution_count": 6,
   "id": "b51fc829-2257-43c0-a2b0-4c8a0d5d6aa0",
   "metadata": {},
   "outputs": [
    {
     "data": {
      "text/plain": [
       "0"
      ]
     },
     "execution_count": 6,
     "metadata": {},
     "output_type": "execute_result"
    }
   ],
   "source": [
    "unique_vals = sorted(list(set(nodes)))\n",
    "nodes.count(101.98)"
   ]
  },
  {
   "cell_type": "code",
   "execution_count": 7,
   "id": "d2f999ec-dc55-44a1-8813-a3e489d0c2b8",
   "metadata": {},
   "outputs": [],
   "source": [
    "counts = []\n",
    "intrinsics = []\n",
    "probs = []\n",
    "expect_vals = []\n",
    "# for uv in unique_vals:\n",
    "#     print()"
   ]
  },
  {
   "cell_type": "code",
   "execution_count": 8,
   "id": "5c8d9805-56bd-4dcc-97f3-d1cd4f08a3e8",
   "metadata": {},
   "outputs": [
    {
     "data": {
      "text/plain": [
       "[-0.98,\n",
       " -0.97,\n",
       " -0.96,\n",
       " -0.95,\n",
       " -0.94,\n",
       " -0.93,\n",
       " -0.92,\n",
       " -0.91,\n",
       " -0.9,\n",
       " -0.89,\n",
       " -0.88,\n",
       " -0.87,\n",
       " -0.86,\n",
       " -0.85,\n",
       " -0.84,\n",
       " -0.83,\n",
       " -0.82,\n",
       " -0.81,\n",
       " -0.8,\n",
       " -0.79,\n",
       " -0.78,\n",
       " -0.77,\n",
       " -0.76,\n",
       " -0.75,\n",
       " -0.74,\n",
       " -0.73,\n",
       " -0.72,\n",
       " -0.71,\n",
       " -0.7,\n",
       " -0.69,\n",
       " -0.68,\n",
       " -0.67,\n",
       " -0.66,\n",
       " -0.65,\n",
       " -0.64,\n",
       " -0.63,\n",
       " -0.62,\n",
       " -0.61,\n",
       " -0.6,\n",
       " -0.59,\n",
       " -0.58,\n",
       " -0.57,\n",
       " -0.56,\n",
       " -0.55,\n",
       " -0.54,\n",
       " -0.53,\n",
       " -0.52,\n",
       " -0.51,\n",
       " -0.5,\n",
       " -0.49,\n",
       " -0.48,\n",
       " -0.47,\n",
       " -0.46,\n",
       " -0.45,\n",
       " -0.44,\n",
       " -0.43,\n",
       " -0.42,\n",
       " -0.41,\n",
       " -0.4,\n",
       " -0.39,\n",
       " -0.38,\n",
       " -0.37,\n",
       " -0.36,\n",
       " -0.35,\n",
       " -0.34,\n",
       " -0.33,\n",
       " -0.32,\n",
       " -0.31,\n",
       " -0.3,\n",
       " -0.29,\n",
       " -0.28,\n",
       " -0.27,\n",
       " -0.26,\n",
       " -0.25,\n",
       " -0.24,\n",
       " -0.23,\n",
       " -0.22,\n",
       " -0.21,\n",
       " -0.2,\n",
       " -0.19,\n",
       " -0.18,\n",
       " -0.17,\n",
       " -0.16,\n",
       " -0.15,\n",
       " -0.14,\n",
       " -0.13,\n",
       " -0.12,\n",
       " -0.11,\n",
       " -0.1,\n",
       " -0.09,\n",
       " -0.08,\n",
       " -0.07,\n",
       " -0.06,\n",
       " -0.05,\n",
       " -0.04,\n",
       " -0.03,\n",
       " -0.02,\n",
       " -0.01,\n",
       " 0.0,\n",
       " 0.01,\n",
       " 0.02,\n",
       " 0.03,\n",
       " 0.04,\n",
       " 0.05,\n",
       " 0.06,\n",
       " 0.07,\n",
       " 0.08,\n",
       " 0.09,\n",
       " 0.1,\n",
       " 0.11,\n",
       " 0.12,\n",
       " 0.13,\n",
       " 0.14,\n",
       " 0.15,\n",
       " 0.16,\n",
       " 0.17,\n",
       " 0.18,\n",
       " 0.19,\n",
       " 0.2,\n",
       " 0.21,\n",
       " 0.22,\n",
       " 0.23,\n",
       " 0.24,\n",
       " 0.25,\n",
       " 0.26,\n",
       " 0.27,\n",
       " 0.28,\n",
       " 0.29,\n",
       " 0.3,\n",
       " 0.31,\n",
       " 0.32,\n",
       " 0.33,\n",
       " 0.34,\n",
       " 0.35,\n",
       " 0.36,\n",
       " 0.37,\n",
       " 0.38,\n",
       " 0.39,\n",
       " 0.4,\n",
       " 0.41,\n",
       " 0.42,\n",
       " 0.43,\n",
       " 0.44,\n",
       " 0.45,\n",
       " 0.46,\n",
       " 0.47,\n",
       " 0.48,\n",
       " 0.49,\n",
       " 0.5,\n",
       " 0.51,\n",
       " 0.52,\n",
       " 0.53,\n",
       " 0.54,\n",
       " 0.55,\n",
       " 0.56,\n",
       " 0.57,\n",
       " 0.58,\n",
       " 0.59,\n",
       " 0.6,\n",
       " 0.61,\n",
       " 0.62,\n",
       " 0.63,\n",
       " 0.64,\n",
       " 0.65,\n",
       " 0.66,\n",
       " 0.67,\n",
       " 0.68,\n",
       " 0.69,\n",
       " 0.7,\n",
       " 0.71,\n",
       " 0.72,\n",
       " 0.73,\n",
       " 0.74,\n",
       " 0.75,\n",
       " 0.76,\n",
       " 0.77,\n",
       " 0.78,\n",
       " 0.79,\n",
       " 0.8,\n",
       " 0.81,\n",
       " 0.82,\n",
       " 0.83,\n",
       " 0.84,\n",
       " 0.85,\n",
       " 0.86,\n",
       " 0.87,\n",
       " 0.88,\n",
       " 0.89,\n",
       " 0.9,\n",
       " 0.91,\n",
       " 0.92,\n",
       " 0.93,\n",
       " 0.94,\n",
       " 0.95,\n",
       " 0.96,\n",
       " 0.97,\n",
       " 0.98,\n",
       " 0.99]"
      ]
     },
     "execution_count": 8,
     "metadata": {},
     "output_type": "execute_result"
    }
   ],
   "source": [
    "unique_vals"
   ]
  },
  {
   "cell_type": "code",
   "execution_count": 153,
   "id": "efa087f7-f585-4196-80d4-51323d4e27cb",
   "metadata": {},
   "outputs": [
    {
     "data": {
      "text/plain": [
       "0"
      ]
     },
     "execution_count": 153,
     "metadata": {},
     "output_type": "execute_result"
    }
   ],
   "source": [
    "nodes.count(100.99)"
   ]
  },
  {
   "cell_type": "code",
   "execution_count": 156,
   "id": "c820b645-daad-42bc-b690-1bc05c30d377",
   "metadata": {},
   "outputs": [],
   "source": [
    "# TODO: fix and finish this up - why no 100.99 when book says there are 167960?\n",
    "# do we need to add the other path or something? No\n",
    "# It's something related to up/down 50/50 probability. Can't do both up and down each time I guess?\n",
    "# create dataframes to match pg 338"
   ]
  },
  {
   "cell_type": "code",
   "execution_count": 157,
   "id": "380c1947-a5d3-48b6-9e10-701dbd07d247",
   "metadata": {},
   "outputs": [
    {
     "data": {
      "text/plain": [
       "109.9"
      ]
     },
     "execution_count": 157,
     "metadata": {},
     "output_type": "execute_result"
    }
   ],
   "source": [
    "100 + 0.99 * 10"
   ]
  },
  {
   "cell_type": "code",
   "execution_count": null,
   "id": "c2bbe5f7-3be9-4180-9dd3-392bb4ba55c0",
   "metadata": {},
   "outputs": [],
   "source": []
  }
 ],
 "metadata": {
  "kernelspec": {
   "display_name": "Python 3",
   "language": "python",
   "name": "python3"
  },
  "language_info": {
   "codemirror_mode": {
    "name": "ipython",
    "version": 3
   },
   "file_extension": ".py",
   "mimetype": "text/x-python",
   "name": "python",
   "nbconvert_exporter": "python",
   "pygments_lexer": "ipython3",
   "version": "3.8.17"
  }
 },
 "nbformat": 4,
 "nbformat_minor": 5
}
