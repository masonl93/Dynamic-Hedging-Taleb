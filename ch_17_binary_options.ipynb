{
 "cells": [
  {
   "cell_type": "code",
   "execution_count": 4,
   "id": "45f7b5ad-af68-466b-a512-e2cfc455b51d",
   "metadata": {},
   "outputs": [],
   "source": [
    "from importlib import reload"
   ]
  },
  {
   "cell_type": "code",
   "execution_count": 5,
   "id": "a151bc2d-5f75-40dd-b599-bfa291c5cea0",
   "metadata": {},
   "outputs": [],
   "source": [
    "import BSM_option_valuation\n",
    "\n",
    "reload(BSM_option_valuation)\n",
    "from BSM_option_valuation import *"
   ]
  },
  {
   "cell_type": "markdown",
   "id": "0fed02a7-8eb4-4ab0-b9ac-621d44196d97",
   "metadata": {},
   "source": [
    "# Pricing with the Skew\n",
    "pg 279"
   ]
  },
  {
   "cell_type": "code",
   "execution_count": 13,
   "id": "9d6e1a5d-08e3-4255-a4da-caca285182be",
   "metadata": {},
   "outputs": [
    {
     "name": "stdout",
     "output_type": "stream",
     "text": [
      "3.379427209005641 2.8950499673203183\n"
     ]
    }
   ],
   "source": [
    "long_call = BSM_call_value(100, 99.5, 0, 1 / 4, 0, 0.157)\n",
    "short_call = BSM_call_value(100, 100.5, 0, 1 / 4, 0, 0.157)\n",
    "print(long_call, short_call)"
   ]
  },
  {
   "cell_type": "code",
   "execution_count": 16,
   "id": "bfee420d-6690-47b0-9ae7-0982f23b7f1b",
   "metadata": {},
   "outputs": [
    {
     "name": "stdout",
     "output_type": "stream",
     "text": [
      "call spread price:  0.4843772416853227\n"
     ]
    }
   ],
   "source": [
    "print(\"call spread price: \", (long_call - short_call))"
   ]
  },
  {
   "cell_type": "code",
   "execution_count": 18,
   "id": "e5604d49-eeed-4dda-96d0-19fd99d1636d",
   "metadata": {},
   "outputs": [
    {
     "name": "stdout",
     "output_type": "stream",
     "text": [
      "3.577855209553327 2.8950499673203183\n",
      "0.6828052422330089\n"
     ]
    }
   ],
   "source": [
    "long_call = BSM_call_value(100, 99.5, 0, 1 / 4, 0, 0.167)\n",
    "short_call = BSM_call_value(100, 100.5, 0, 1 / 4, 0, 0.157)\n",
    "print(long_call, short_call)\n",
    "print(long_call - short_call)"
   ]
  },
  {
   "cell_type": "code",
   "execution_count": 19,
   "id": "411fd3bc-df01-4e1a-85e6-6737690ed65c",
   "metadata": {},
   "outputs": [
    {
     "name": "stdout",
     "output_type": "stream",
     "text": [
      "3.419110579518744 2.8950499673203183\n",
      "0.5240606121984257\n"
     ]
    }
   ],
   "source": [
    "long_call = BSM_call_value(100, 99.5, 0, 1 / 4, 0, 0.159)\n",
    "short_call = BSM_call_value(100, 100.5, 0, 1 / 4, 0, 0.157)\n",
    "print(long_call, short_call)\n",
    "print(long_call - short_call)"
   ]
  },
  {
   "cell_type": "code",
   "execution_count": null,
   "id": "9481b031-6f78-4bed-859a-3c1c91b27697",
   "metadata": {},
   "outputs": [],
   "source": [
    "BSM_call_value(100, 99.5, 0, 1 / 4, 0, 0.159)"
   ]
  }
 ],
 "metadata": {
  "kernelspec": {
   "display_name": "Python 3",
   "language": "python",
   "name": "python3"
  },
  "language_info": {
   "codemirror_mode": {
    "name": "ipython",
    "version": 3
   },
   "file_extension": ".py",
   "mimetype": "text/x-python",
   "name": "python",
   "nbconvert_exporter": "python",
   "pygments_lexer": "ipython3",
   "version": "3.8.17"
  }
 },
 "nbformat": 4,
 "nbformat_minor": 5
}
